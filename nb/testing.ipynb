{
 "cells": [
  {
   "cell_type": "code",
   "execution_count": null,
   "id": "60567551",
   "metadata": {
    "ExecuteTime": {
     "end_time": "2021-10-28T20:18:23.351631Z",
     "start_time": "2021-10-28T20:18:23.145205Z"
    }
   },
   "outputs": [],
   "source": [
    "from yaml import CLoader as Loader, load, dump\n",
    "import os"
   ]
  },
  {
   "cell_type": "code",
   "execution_count": null,
   "id": "e4e3eebb",
   "metadata": {
    "ExecuteTime": {
     "end_time": "2021-10-28T20:18:23.856739Z",
     "start_time": "2021-10-28T20:18:23.726729Z"
    }
   },
   "outputs": [],
   "source": [
    "units = pd.read_csv(\"../sheets/test_units.csv\", sep=\"\\t\").set_index([\"sample_name\", \"unit_name\"], drop=False).sort_index()\n",
    "units[:3]"
   ]
  },
  {
   "cell_type": "markdown",
   "id": "1bc930c6",
   "metadata": {},
   "source": [
    "### fastQC list"
   ]
  },
  {
   "cell_type": "code",
   "execution_count": null,
   "id": "bee3713b",
   "metadata": {
    "ExecuteTime": {
     "end_time": "2021-10-28T20:18:39.043857Z",
     "start_time": "2021-10-28T20:18:39.030900Z"
    }
   },
   "outputs": [],
   "source": [
    "units['SE'] = units['fastq2'].isna() | (units['fastq2'].isna() == \"\")\n",
    "units"
   ]
  },
  {
   "cell_type": "code",
   "execution_count": null,
   "id": "e70dadbe",
   "metadata": {},
   "outputs": [],
   "source": []
  },
  {
   "cell_type": "code",
   "execution_count": null,
   "id": "d0d9e018",
   "metadata": {
    "ExecuteTime": {
     "end_time": "2021-10-28T16:18:50.233733Z",
     "start_time": "2021-10-28T16:18:50.226778Z"
    }
   },
   "outputs": [],
   "source": [
    "path = \"results/qc/fastqc\"\n",
    "folders = [\"raw\", \"trim\"]\n",
    "reads = [\"R1\", \"R2\"]\n",
    "[os.path.join(path, f\"{folder}/{u[0]}-{u[1]}_{read}_fastqc.zip\") for u in units[~units['SE']].index for folder in folders for read in reads]\n",
    "[os.path.join(path, f\"{folder}/{u[0]}-{u[1]}_fastqc.zip\") for u in units[units['SE']].index for folder in folders]"
   ]
  },
  {
   "cell_type": "markdown",
   "id": "50b28ffa",
   "metadata": {
    "ExecuteTime": {
     "end_time": "2021-10-28T10:23:29.383755Z",
     "start_time": "2021-10-28T10:23:29.377142Z"
    }
   },
   "source": [
    "w = {\"sample\":\"A1\", \"unit\": 1}\n",
    "u = df.loc[(\"A1\", 1),:]\n",
    "u"
   ]
  }
 ],
 "metadata": {
  "kernelspec": {
   "display_name": "Python 3",
   "language": "python",
   "name": "python3"
  },
  "language_info": {
   "codemirror_mode": {
    "name": "ipython",
    "version": 3
   },
   "file_extension": ".py",
   "mimetype": "text/x-python",
   "name": "python",
   "nbconvert_exporter": "python",
   "pygments_lexer": "ipython3",
   "version": "3.9.5"
  },
  "varInspector": {
   "cols": {
    "lenName": 16,
    "lenType": 16,
    "lenVar": 40
   },
   "kernels_config": {
    "python": {
     "delete_cmd_postfix": "",
     "delete_cmd_prefix": "del ",
     "library": "var_list.py",
     "varRefreshCmd": "print(var_dic_list())"
    },
    "r": {
     "delete_cmd_postfix": ") ",
     "delete_cmd_prefix": "rm(",
     "library": "var_list.r",
     "varRefreshCmd": "cat(var_dic_list()) "
    }
   },
   "types_to_exclude": [
    "module",
    "function",
    "builtin_function_or_method",
    "instance",
    "_Feature"
   ],
   "window_display": false
  }
 },
 "nbformat": 4,
 "nbformat_minor": 5
}
