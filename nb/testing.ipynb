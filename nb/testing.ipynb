{
 "cells": [
  {
   "cell_type": "code",
   "execution_count": 1,
   "id": "60567551",
   "metadata": {
    "ExecuteTime": {
     "end_time": "2021-10-28T20:18:23.351631Z",
     "start_time": "2021-10-28T20:18:23.145205Z"
    }
   },
   "outputs": [],
   "source": [
    "from yaml import CLoader as Loader, load, dump\n",
    "import os"
   ]
  },
  {
   "cell_type": "code",
   "execution_count": 2,
   "id": "e4e3eebb",
   "metadata": {
    "ExecuteTime": {
     "end_time": "2021-10-28T20:18:23.856739Z",
     "start_time": "2021-10-28T20:18:23.726729Z"
    }
   },
   "outputs": [
    {
     "data": {
      "text/html": [
       "<div>\n",
       "<style scoped>\n",
       "    .dataframe tbody tr th:only-of-type {\n",
       "        vertical-align: middle;\n",
       "    }\n",
       "\n",
       "    .dataframe tbody tr th {\n",
       "        vertical-align: top;\n",
       "    }\n",
       "\n",
       "    .dataframe thead th {\n",
       "        text-align: right;\n",
       "    }\n",
       "</style>\n",
       "<table border=\"1\" class=\"dataframe\">\n",
       "  <thead>\n",
       "    <tr style=\"text-align: right;\">\n",
       "      <th></th>\n",
       "      <th></th>\n",
       "      <th>sample_name</th>\n",
       "      <th>unit_name</th>\n",
       "      <th>fastq1</th>\n",
       "      <th>fastq2</th>\n",
       "      <th>adapters3</th>\n",
       "      <th>adapters5</th>\n",
       "    </tr>\n",
       "    <tr>\n",
       "      <th>sample_name</th>\n",
       "      <th>unit_name</th>\n",
       "      <th></th>\n",
       "      <th></th>\n",
       "      <th></th>\n",
       "      <th></th>\n",
       "      <th></th>\n",
       "      <th></th>\n",
       "    </tr>\n",
       "  </thead>\n",
       "  <tbody>\n",
       "    <tr>\n",
       "      <th>A1</th>\n",
       "      <th>1</th>\n",
       "      <td>A1</td>\n",
       "      <td>1</td>\n",
       "      <td>A1_FKDL210181799-1a-N701-N502_H73JCDSX2_L4_1.f...</td>\n",
       "      <td>NaN</td>\n",
       "      <td>NaN</td>\n",
       "      <td>NaN</td>\n",
       "    </tr>\n",
       "    <tr>\n",
       "      <th>A3</th>\n",
       "      <th>1</th>\n",
       "      <td>A3</td>\n",
       "      <td>1</td>\n",
       "      <td>A3_FKDL210181799-1a-N703-N502_H73JCDSX2_L4_1.f...</td>\n",
       "      <td>A3_FKDL210181799-1a-N703-N502_H73JCDSX2_L4_2.f...</td>\n",
       "      <td>NaN</td>\n",
       "      <td>NaN</td>\n",
       "    </tr>\n",
       "    <tr>\n",
       "      <th>A4</th>\n",
       "      <th>1</th>\n",
       "      <td>A4</td>\n",
       "      <td>1</td>\n",
       "      <td>A4_FKDL210181799-1a-N704-N502_H73JCDSX2_L4_1.f...</td>\n",
       "      <td>A4_FKDL210181799-1a-N704-N502_H73JCDSX2_L4_2.f...</td>\n",
       "      <td>NaN</td>\n",
       "      <td>NaN</td>\n",
       "    </tr>\n",
       "  </tbody>\n",
       "</table>\n",
       "</div>"
      ],
      "text/plain": [
       "                      sample_name  unit_name  \\\n",
       "sample_name unit_name                          \n",
       "A1          1                  A1          1   \n",
       "A3          1                  A3          1   \n",
       "A4          1                  A4          1   \n",
       "\n",
       "                                                                  fastq1  \\\n",
       "sample_name unit_name                                                      \n",
       "A1          1          A1_FKDL210181799-1a-N701-N502_H73JCDSX2_L4_1.f...   \n",
       "A3          1          A3_FKDL210181799-1a-N703-N502_H73JCDSX2_L4_1.f...   \n",
       "A4          1          A4_FKDL210181799-1a-N704-N502_H73JCDSX2_L4_1.f...   \n",
       "\n",
       "                                                                  fastq2  \\\n",
       "sample_name unit_name                                                      \n",
       "A1          1                                                        NaN   \n",
       "A3          1          A3_FKDL210181799-1a-N703-N502_H73JCDSX2_L4_2.f...   \n",
       "A4          1          A4_FKDL210181799-1a-N704-N502_H73JCDSX2_L4_2.f...   \n",
       "\n",
       "                       adapters3  adapters5  \n",
       "sample_name unit_name                        \n",
       "A1          1                NaN        NaN  \n",
       "A3          1                NaN        NaN  \n",
       "A4          1                NaN        NaN  "
      ]
     },
     "execution_count": 2,
     "metadata": {},
     "output_type": "execute_result"
    }
   ],
   "source": [
    "units = pd.read_csv(\"../sheets/test_units.csv\", sep=\"\\t\").set_index([\"sample_name\", \"unit_name\"], drop=False).sort_index()\n",
    "units[:3]"
   ]
  },
  {
   "cell_type": "markdown",
   "id": "1bc930c6",
   "metadata": {},
   "source": [
    "### fastQC list"
   ]
  },
  {
   "cell_type": "code",
   "execution_count": 4,
   "id": "bee3713b",
   "metadata": {
    "ExecuteTime": {
     "end_time": "2021-10-28T20:18:39.043857Z",
     "start_time": "2021-10-28T20:18:39.030900Z"
    }
   },
   "outputs": [
    {
     "data": {
      "text/html": [
       "<div>\n",
       "<style scoped>\n",
       "    .dataframe tbody tr th:only-of-type {\n",
       "        vertical-align: middle;\n",
       "    }\n",
       "\n",
       "    .dataframe tbody tr th {\n",
       "        vertical-align: top;\n",
       "    }\n",
       "\n",
       "    .dataframe thead th {\n",
       "        text-align: right;\n",
       "    }\n",
       "</style>\n",
       "<table border=\"1\" class=\"dataframe\">\n",
       "  <thead>\n",
       "    <tr style=\"text-align: right;\">\n",
       "      <th></th>\n",
       "      <th></th>\n",
       "      <th>sample_name</th>\n",
       "      <th>unit_name</th>\n",
       "      <th>fastq1</th>\n",
       "      <th>fastq2</th>\n",
       "      <th>adapters3</th>\n",
       "      <th>adapters5</th>\n",
       "      <th>SE</th>\n",
       "    </tr>\n",
       "    <tr>\n",
       "      <th>sample_name</th>\n",
       "      <th>unit_name</th>\n",
       "      <th></th>\n",
       "      <th></th>\n",
       "      <th></th>\n",
       "      <th></th>\n",
       "      <th></th>\n",
       "      <th></th>\n",
       "      <th></th>\n",
       "    </tr>\n",
       "  </thead>\n",
       "  <tbody>\n",
       "    <tr>\n",
       "      <th>A1</th>\n",
       "      <th>1</th>\n",
       "      <td>A1</td>\n",
       "      <td>1</td>\n",
       "      <td>A1_FKDL210181799-1a-N701-N502_H73JCDSX2_L4_1.f...</td>\n",
       "      <td>NaN</td>\n",
       "      <td>NaN</td>\n",
       "      <td>NaN</td>\n",
       "      <td>True</td>\n",
       "    </tr>\n",
       "    <tr>\n",
       "      <th>A3</th>\n",
       "      <th>1</th>\n",
       "      <td>A3</td>\n",
       "      <td>1</td>\n",
       "      <td>A3_FKDL210181799-1a-N703-N502_H73JCDSX2_L4_1.f...</td>\n",
       "      <td>A3_FKDL210181799-1a-N703-N502_H73JCDSX2_L4_2.f...</td>\n",
       "      <td>NaN</td>\n",
       "      <td>NaN</td>\n",
       "      <td>False</td>\n",
       "    </tr>\n",
       "    <tr>\n",
       "      <th>A4</th>\n",
       "      <th>1</th>\n",
       "      <td>A4</td>\n",
       "      <td>1</td>\n",
       "      <td>A4_FKDL210181799-1a-N704-N502_H73JCDSX2_L4_1.f...</td>\n",
       "      <td>A4_FKDL210181799-1a-N704-N502_H73JCDSX2_L4_2.f...</td>\n",
       "      <td>NaN</td>\n",
       "      <td>NaN</td>\n",
       "      <td>False</td>\n",
       "    </tr>\n",
       "  </tbody>\n",
       "</table>\n",
       "</div>"
      ],
      "text/plain": [
       "                      sample_name  unit_name  \\\n",
       "sample_name unit_name                          \n",
       "A1          1                  A1          1   \n",
       "A3          1                  A3          1   \n",
       "A4          1                  A4          1   \n",
       "\n",
       "                                                                  fastq1  \\\n",
       "sample_name unit_name                                                      \n",
       "A1          1          A1_FKDL210181799-1a-N701-N502_H73JCDSX2_L4_1.f...   \n",
       "A3          1          A3_FKDL210181799-1a-N703-N502_H73JCDSX2_L4_1.f...   \n",
       "A4          1          A4_FKDL210181799-1a-N704-N502_H73JCDSX2_L4_1.f...   \n",
       "\n",
       "                                                                  fastq2  \\\n",
       "sample_name unit_name                                                      \n",
       "A1          1                                                        NaN   \n",
       "A3          1          A3_FKDL210181799-1a-N703-N502_H73JCDSX2_L4_2.f...   \n",
       "A4          1          A4_FKDL210181799-1a-N704-N502_H73JCDSX2_L4_2.f...   \n",
       "\n",
       "                       adapters3  adapters5     SE  \n",
       "sample_name unit_name                               \n",
       "A1          1                NaN        NaN   True  \n",
       "A3          1                NaN        NaN  False  \n",
       "A4          1                NaN        NaN  False  "
      ]
     },
     "execution_count": 4,
     "metadata": {},
     "output_type": "execute_result"
    }
   ],
   "source": [
    "units['SE'] = units['fastq2'].isna() | (units['fastq2'].isna() == \"\")\n",
    "units"
   ]
  },
  {
   "cell_type": "code",
   "execution_count": null,
   "id": "cfd13a1c",
   "metadata": {},
   "outputs": [],
   "source": []
  },
  {
   "cell_type": "code",
   "execution_count": null,
   "id": "d0d9e018",
   "metadata": {
    "ExecuteTime": {
     "end_time": "2021-10-28T16:18:50.233733Z",
     "start_time": "2021-10-28T16:18:50.226778Z"
    }
   },
   "outputs": [],
   "source": [
    "path = \"results/qc/fastqc\"\n",
    "folders = [\"raw\", \"trim\"]\n",
    "reads = [\"R1\", \"R2\"]\n",
    "[os.path.join(path, f\"{folder}/{u[0]}-{u[1]}_{read}_fastqc.zip\") for u in units[~units['SE']].index for folder in folders for read in reads]\n",
    "[os.path.join(path, f\"{folder}/{u[0]}-{u[1]}_fastqc.zip\") for u in units[units['SE']].index for folder in folders]"
   ]
  },
  {
   "cell_type": "markdown",
   "id": "50b28ffa",
   "metadata": {
    "ExecuteTime": {
     "end_time": "2021-10-28T10:23:29.383755Z",
     "start_time": "2021-10-28T10:23:29.377142Z"
    }
   },
   "source": [
    "w = {\"sample\":\"A1\", \"unit\": 1}\n",
    "u = df.loc[(\"A1\", 1),:]\n",
    "u"
   ]
  }
 ],
 "metadata": {
  "kernelspec": {
   "display_name": "Python 3",
   "language": "python",
   "name": "python3"
  },
  "language_info": {
   "codemirror_mode": {
    "name": "ipython",
    "version": 3
   },
   "file_extension": ".py",
   "mimetype": "text/x-python",
   "name": "python",
   "nbconvert_exporter": "python",
   "pygments_lexer": "ipython3",
   "version": "3.9.5"
  },
  "varInspector": {
   "cols": {
    "lenName": 16,
    "lenType": 16,
    "lenVar": 40
   },
   "kernels_config": {
    "python": {
     "delete_cmd_postfix": "",
     "delete_cmd_prefix": "del ",
     "library": "var_list.py",
     "varRefreshCmd": "print(var_dic_list())"
    },
    "r": {
     "delete_cmd_postfix": ") ",
     "delete_cmd_prefix": "rm(",
     "library": "var_list.r",
     "varRefreshCmd": "cat(var_dic_list()) "
    }
   },
   "types_to_exclude": [
    "module",
    "function",
    "builtin_function_or_method",
    "instance",
    "_Feature"
   ],
   "window_display": false
  }
 },
 "nbformat": 4,
 "nbformat_minor": 5
}
